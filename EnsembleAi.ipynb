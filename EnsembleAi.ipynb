{
 "cells": [
  {
   "cell_type": "code",
   "execution_count": null,
   "id": "c6ca812c",
   "metadata": {},
   "outputs": [
    {
     "ename": "ImportError",
     "evalue": "cannot import name 'NdLinearMNISTNet' from 'ndlinear_net' (c:\\Users\\omsri\\OneDrive\\Desktop\\EnsembleAi\\models\\ndlinear_net.py)",
     "output_type": "error",
     "traceback": [
      "\u001b[1;31m---------------------------------------------------------------------------\u001b[0m",
      "\u001b[1;31mImportError\u001b[0m                               Traceback (most recent call last)",
      "Cell \u001b[1;32mIn[10], line 14\u001b[0m\n\u001b[0;32m      9\u001b[0m \u001b[38;5;28;01mimport\u001b[39;00m \u001b[38;5;21;01mnumpy\u001b[39;00m \u001b[38;5;28;01mas\u001b[39;00m \u001b[38;5;21;01mnp\u001b[39;00m\n\u001b[0;32m     11\u001b[0m sys\u001b[38;5;241m.\u001b[39mpath\u001b[38;5;241m.\u001b[39mappend(os\u001b[38;5;241m.\u001b[39mpath\u001b[38;5;241m.\u001b[39mjoin(os\u001b[38;5;241m.\u001b[39mgetcwd(), \u001b[38;5;124m'\u001b[39m\u001b[38;5;124mmodels\u001b[39m\u001b[38;5;124m'\u001b[39m))\n\u001b[1;32m---> 14\u001b[0m \u001b[38;5;28;01mfrom\u001b[39;00m \u001b[38;5;21;01mndlinear_net\u001b[39;00m \u001b[38;5;28;01mimport\u001b[39;00m NdLinearMNISTNet\n\u001b[0;32m     15\u001b[0m \u001b[38;5;28;01mfrom\u001b[39;00m \u001b[38;5;21;01mlinear_net\u001b[39;00m \u001b[38;5;28;01mimport\u001b[39;00m LinearMNISTNet\n\u001b[0;32m     17\u001b[0m \u001b[38;5;66;03m# heck device\u001b[39;00m\n",
      "\u001b[1;31mImportError\u001b[0m: cannot import name 'NdLinearMNISTNet' from 'ndlinear_net' (c:\\Users\\omsri\\OneDrive\\Desktop\\EnsembleAi\\models\\ndlinear_net.py)"
     ]
    }
   ],
   "source": [
    "import sys\n",
    "import os\n",
    "import torch\n",
    "import torch.nn as nn\n",
    "import torch.optim as optim\n",
    "from torchvision import datasets, transforms\n",
    "from torch.utils.data import DataLoader\n",
    "import matplotlib.pyplot as plt\n",
    "import numpy as np\n",
    "\n",
    "sys.path.append(os.path.join(os.getcwd(), 'models'))\n",
    "\n",
    "from ndlinear_net import NdLinearMNISTNet\n",
    "from linear_net import LinearMNISTNet\n",
    "\n",
    "# heck device\n",
    "device = torch.device(\"cuda\" if torch.cuda.is_available() else \"cpu\")\n",
    "print(\"Using device:\", device)\n"
   ]
  },
  {
   "cell_type": "code",
   "execution_count": null,
   "id": "1204016c",
   "metadata": {},
   "outputs": [
    {
     "name": "stdout",
     "output_type": "stream",
     "text": [
      "Number of training samples: 60000\n",
      "Number of test samples: 10000\n"
     ]
    }
   ],
   "source": [
    "# Define a transformation for MNIST: convert grayscale to RGB and then to a tensor\n",
    "transform = transforms.Compose([\n",
    "    transforms.Grayscale(num_output_channels=3),\n",
    "    transforms.ToTensor()\n",
    "])\n",
    "\n",
    "# Download and load MNIST dataset\n",
    "train_dataset = datasets.MNIST(root=\"./data\", train=True, download=True, transform=transform)\n",
    "test_dataset  = datasets.MNIST(root=\"./data\", train=False, download=True, transform=transform)\n",
    "\n",
    "train_loader = DataLoader(train_dataset, batch_size=32, shuffle=True)\n",
    "test_loader  = DataLoader(test_dataset, batch_size=32, shuffle=False)\n",
    "\n",
    "print(\"Number of training samples:\", len(train_dataset))\n",
    "print(\"Number of test samples:\", len(test_dataset))\n"
   ]
  },
  {
   "cell_type": "code",
   "execution_count": null,
   "id": "f9378071",
   "metadata": {},
   "outputs": [],
   "source": [
    "def train_model(model, train_loader, optimizer, criterion, epochs=10):\n",
    "    \"\"\"Train the given model and return loss history.\"\"\"\n",
    "    loss_history = []\n",
    "    model.train()\n",
    "    for epoch in range(epochs):\n",
    "        running_loss = 0.0\n",
    "        for images, labels in train_loader:\n",
    "            # For NdLinearMNISTNet, we need to make sure we convert from (B,3,28,28) to (B,28,28,3)\n",
    "            # The models take care of that inside the forward method, so we don't need additional changes here.\n",
    "            images, labels = images.to(device), labels.to(device)\n",
    "            \n",
    "            optimizer.zero_grad()\n",
    "            outputs = model(images)\n",
    "            loss = criterion(outputs, labels)\n",
    "            loss.backward()\n",
    "            optimizer.step()\n",
    "            running_loss += loss.item()\n",
    "        avg_loss = running_loss / len(train_loader)\n",
    "        loss_history.append(avg_loss)\n",
    "        print(f\"Epoch {epoch+1}/{epochs}, Loss: {avg_loss:.4f}\")\n",
    "    return loss_history\n",
    "\n",
    "def evaluate_model(model, test_loader):\n",
    "    \"\"\"Evaluate the model on test data and return the accuracy.\"\"\"\n",
    "    model.eval()\n",
    "    correct = 0\n",
    "    total = 0\n",
    "    with torch.no_grad():\n",
    "        for images, labels in test_loader:\n",
    "            images, labels = images.to(device), labels.to(device)\n",
    "            outputs = model(images)\n",
    "            _, preds = torch.max(outputs, 1)\n",
    "            correct += (preds == labels).sum().item()\n",
    "            total += labels.size(0)\n",
    "    accuracy = 100 * correct / total\n",
    "    return accuracy\n"
   ]
  },
  {
   "cell_type": "code",
   "execution_count": null,
   "id": "ad3a3f69",
   "metadata": {},
   "outputs": [
    {
     "name": "stdout",
     "output_type": "stream",
     "text": [
      "Training NdLinear Model...\n",
      "Epoch 1/10, Loss: 0.5923\n",
      "Epoch 2/10, Loss: 0.3131\n",
      "Epoch 3/10, Loss: 0.3054\n",
      "Epoch 4/10, Loss: 0.2978\n",
      "Epoch 5/10, Loss: 0.2945\n",
      "Epoch 6/10, Loss: 0.2877\n",
      "Epoch 7/10, Loss: 0.2837\n",
      "Epoch 8/10, Loss: 0.2797\n",
      "Epoch 9/10, Loss: 0.2777\n",
      "Epoch 10/10, Loss: 0.2762\n",
      "NdLinear Model Test Accuracy: 92.03%\n"
     ]
    }
   ],
   "source": [
    "# Instantiate the NdLinear model and move to device\n",
    "ndlinear_model = NdLinearMNISTNet().to(device)\n",
    "optimizer_ndlinear = optim.Adam(ndlinear_model.parameters(), lr=0.001)\n",
    "criterion = nn.CrossEntropyLoss()\n",
    "\n",
    "print(\"Training NdLinear Model...\")\n",
    "ndlinear_loss_history = train_model(ndlinear_model, train_loader, optimizer_ndlinear, criterion, epochs=10)\n",
    "ndlinear_accuracy = evaluate_model(ndlinear_model, test_loader)\n",
    "print(f\"NdLinear Model Test Accuracy: {ndlinear_accuracy:.2f}%\")"
   ]
  },
  {
   "cell_type": "code",
   "execution_count": null,
   "id": "f917c1f5",
   "metadata": {},
   "outputs": [
    {
     "name": "stdout",
     "output_type": "stream",
     "text": [
      "Training Linear Model...\n",
      "Epoch 1/10, Loss: 0.1854\n",
      "Epoch 2/10, Loss: 0.0815\n",
      "Epoch 3/10, Loss: 0.0549\n",
      "Epoch 4/10, Loss: 0.0433\n",
      "Epoch 5/10, Loss: 0.0330\n",
      "Epoch 6/10, Loss: 0.0291\n",
      "Epoch 7/10, Loss: 0.0245\n",
      "Epoch 8/10, Loss: 0.0179\n",
      "Epoch 9/10, Loss: 0.0206\n",
      "Epoch 10/10, Loss: 0.0195\n",
      "Linear Model Test Accuracy: 98.13%\n"
     ]
    }
   ],
   "source": [
    "# Instantiate the Linear model and move to device\n",
    "linear_model = LinearMNISTNet().to(device)\n",
    "optimizer_linear = optim.Adam(linear_model.parameters(), lr=0.001)\n",
    "criterion = nn.CrossEntropyLoss()\n",
    "\n",
    "print(\"Training Linear Model...\")\n",
    "linear_loss_history = train_model(linear_model, train_loader, optimizer_linear, criterion, epochs=10)\n",
    "linear_accuracy = evaluate_model(linear_model, test_loader)\n",
    "print(f\"Linear Model Test Accuracy: {linear_accuracy:.2f}%\")\n"
   ]
  },
  {
   "cell_type": "code",
   "execution_count": null,
   "id": "d03c55ec",
   "metadata": {},
   "outputs": [
    {
     "ename": "NameError",
     "evalue": "name 'np' is not defined",
     "output_type": "error",
     "traceback": [
      "\u001b[1;31m---------------------------------------------------------------------------\u001b[0m",
      "\u001b[1;31mNameError\u001b[0m                                 Traceback (most recent call last)",
      "Cell \u001b[1;32mIn[2], line 1\u001b[0m\n\u001b[1;32m----> 1\u001b[0m epochs \u001b[38;5;241m=\u001b[39m np\u001b[38;5;241m.\u001b[39marange(\u001b[38;5;241m1\u001b[39m, \u001b[38;5;241m11\u001b[39m)\n\u001b[0;32m      3\u001b[0m plt\u001b[38;5;241m.\u001b[39mfigure(figsize\u001b[38;5;241m=\u001b[39m(\u001b[38;5;241m10\u001b[39m, \u001b[38;5;241m6\u001b[39m))\n\u001b[0;32m      4\u001b[0m plt\u001b[38;5;241m.\u001b[39mplot(epochs, ndlinear_loss_history, label\u001b[38;5;241m=\u001b[39m\u001b[38;5;124m\"\u001b[39m\u001b[38;5;124mNdLinear Model\u001b[39m\u001b[38;5;124m\"\u001b[39m)\n",
      "\u001b[1;31mNameError\u001b[0m: name 'np' is not defined"
     ]
    }
   ],
   "source": [
    "epochs = np.arange(1, 11)\n",
    "\n",
    "plt.figure(figsize=(10, 6))\n",
    "plt.plot(epochs, ndlinear_loss_history, label=\"NdLinear Model\")\n",
    "plt.plot(epochs, linear_loss_history, label=\"Linear Model\")\n",
    "plt.xlabel(\"Epoch\")\n",
    "plt.ylabel(\"Average Loss\")\n",
    "plt.title(\"Training Loss Comparison\")\n",
    "plt.legend()\n",
    "plt.grid(True)\n",
    "plt.show()"
   ]
  },
  {
   "cell_type": "code",
   "execution_count": null,
   "id": "f922dffa",
   "metadata": {},
   "outputs": [
    {
     "name": "stdout",
     "output_type": "stream",
     "text": [
      "Test Accuracy: 92.18%\n"
     ]
    }
   ],
   "source": [
    "print(f\"Final Test Accuracy for NdLinear Model: {ndlinear_accuracy:.2f}%\")\n",
    "print(f\"Final Test Accuracy for Linear Model: {linear_accuracy:.2f}%\")\n"
   ]
  },
  {
   "cell_type": "code",
   "execution_count": null,
   "id": "bd62e580",
   "metadata": {},
   "outputs": [],
   "source": []
  }
 ],
 "metadata": {
  "kernelspec": {
   "display_name": "base",
   "language": "python",
   "name": "python3"
  },
  "language_info": {
   "codemirror_mode": {
    "name": "ipython",
    "version": 3
   },
   "file_extension": ".py",
   "mimetype": "text/x-python",
   "name": "python",
   "nbconvert_exporter": "python",
   "pygments_lexer": "ipython3",
   "version": "3.12.7"
  }
 },
 "nbformat": 4,
 "nbformat_minor": 5
}
